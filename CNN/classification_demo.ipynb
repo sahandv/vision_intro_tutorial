{
 "cells": [
  {
   "cell_type": "markdown",
   "metadata": {
    "colab_type": "text",
    "id": "cg95K00rHfxG"
   },
   "source": [
    "# Classification Demo"
   ]
  },
  {
   "cell_type": "markdown",
   "metadata": {
    "colab_type": "text",
    "id": "8er1HU3DR6Ef"
   },
   "source": [
    "**Mount Google Drive**"
   ]
  },
  {
   "cell_type": "code",
   "execution_count": 1,
   "metadata": {
    "colab": {
     "base_uri": "https://localhost:8080/",
     "height": 122
    },
    "colab_type": "code",
    "executionInfo": {
     "elapsed": 29074,
     "status": "ok",
     "timestamp": 1559697223296,
     "user": {
      "displayName": "Sahand Vahidnia",
      "photoUrl": "https://lh4.googleusercontent.com/-sKRJOjmjksE/AAAAAAAAAAI/AAAAAAAAHVk/dgd_UbVOMRU/s64/photo.jpg",
      "userId": "07441076380334256099"
     },
     "user_tz": -600
    },
    "id": "B_L2qVoGHnzD",
    "outputId": "e7dd948d-6919-47dc-c4cf-e609d7d36bc4"
   },
   "outputs": [
    {
     "name": "stdout",
     "output_type": "stream",
     "text": [
      "Go to this URL in a browser: https://accounts.google.com/o/oauth2/auth?client_id=947318989803-6bn6qk8qdgf4n4g3pfee6491hc0brc4i.apps.googleusercontent.com&redirect_uri=urn%3Aietf%3Awg%3Aoauth%3A2.0%3Aoob&scope=email%20https%3A%2F%2Fwww.googleapis.com%2Fauth%2Fdocs.test%20https%3A%2F%2Fwww.googleapis.com%2Fauth%2Fdrive%20https%3A%2F%2Fwww.googleapis.com%2Fauth%2Fdrive.photos.readonly%20https%3A%2F%2Fwww.googleapis.com%2Fauth%2Fpeopleapi.readonly&response_type=code\n",
      "\n",
      "Enter your authorization code:\n",
      "··········\n",
      "Mounted at /content/drive/\n"
     ]
    }
   ],
   "source": [
    "from google.colab import drive\n",
    "drive.mount('/content/drive/')"
   ]
  },
  {
   "cell_type": "code",
   "execution_count": 2,
   "metadata": {
    "colab": {
     "base_uri": "https://localhost:8080/",
     "height": 170
    },
    "colab_type": "code",
    "executionInfo": {
     "elapsed": 31830,
     "status": "ok",
     "timestamp": 1559697226073,
     "user": {
      "displayName": "Sahand Vahidnia",
      "photoUrl": "https://lh4.googleusercontent.com/-sKRJOjmjksE/AAAAAAAAAAI/AAAAAAAAHVk/dgd_UbVOMRU/s64/photo.jpg",
      "userId": "07441076380334256099"
     },
     "user_tz": -600
    },
    "id": "bB5Gqmn6Ij6G",
    "outputId": "b0185fb4-aea4-4436-d960-af2191c60524"
   },
   "outputs": [
    {
     "name": "stdout",
     "output_type": "stream",
     "text": [
      " 2019-06-04-16:52:30--checkpoint.hdf5   2019-06-04-18:08:28--checkpoint.hdf5\n",
      " 2019-06-04-17:14:09--checkpoint.hdf5   2019-06-04-18:08:28--model.json\n",
      " 2019-06-04-17:14:51--checkpoint.hdf5   2019-06-04-19:05:11--checkpoint.hdf5\n",
      " 2019-06-04-17:17:36--checkpoint.hdf5   2019-06-04-19:05:11--model.json\n",
      " 2019-06-04-17:22:45--model.json       'asphalt data'\n",
      " 2019-06-04-17:42:55--checkpoint.hdf5  'Computer Vision.gslides'\n",
      " 2019-06-04-17:42:55--model.json        crackdetection_demo.ipynb\n",
      " 2019-06-04-17:44:26--checkpoint.hdf5   requirements\n",
      " 2019-06-04-17:44:26--model.json\n"
     ]
    }
   ],
   "source": [
    "!ls '/content/drive/My Drive/vision_intro_tutorial'"
   ]
  },
  {
   "cell_type": "markdown",
   "metadata": {
    "colab_type": "text",
    "id": "Zt9TskP5R-O0"
   },
   "source": [
    "**Install requirements**"
   ]
  },
  {
   "cell_type": "code",
   "execution_count": 3,
   "metadata": {
    "colab": {
     "base_uri": "https://localhost:8080/",
     "height": 496
    },
    "colab_type": "code",
    "executionInfo": {
     "elapsed": 36430,
     "status": "ok",
     "timestamp": 1559697230693,
     "user": {
      "displayName": "Sahand Vahidnia",
      "photoUrl": "https://lh4.googleusercontent.com/-sKRJOjmjksE/AAAAAAAAAAI/AAAAAAAAHVk/dgd_UbVOMRU/s64/photo.jpg",
      "userId": "07441076380334256099"
     },
     "user_tz": -600
    },
    "id": "H8eLaeZYKTFN",
    "outputId": "bb4de312-1f65-45fa-8e5a-1a46ce4bbb3f"
   },
   "outputs": [
    {
     "name": "stdout",
     "output_type": "stream",
     "text": [
      "Requirement already satisfied: keras in /usr/local/lib/python3.6/dist-packages (from -r /content/drive/My Drive/Documents/Educational/Given Courses/CV Tutorial/requirements (line 1)) (2.2.4)\n",
      "Requirement already satisfied: scikit-learn in /usr/local/lib/python3.6/dist-packages (from -r /content/drive/My Drive/Documents/Educational/Given Courses/CV Tutorial/requirements (line 2)) (0.21.2)\n",
      "Requirement already satisfied: scikit-image in /usr/local/lib/python3.6/dist-packages (from -r /content/drive/My Drive/Documents/Educational/Given Courses/CV Tutorial/requirements (line 3)) (0.15.0)\n",
      "Requirement already satisfied: opencv-python in /usr/local/lib/python3.6/dist-packages (from -r /content/drive/My Drive/Documents/Educational/Given Courses/CV Tutorial/requirements (line 4)) (3.4.5.20)\n",
      "Requirement already satisfied: pandas in /usr/local/lib/python3.6/dist-packages (from -r /content/drive/My Drive/Documents/Educational/Given Courses/CV Tutorial/requirements (line 5)) (0.24.2)\n",
      "Requirement already satisfied: cython in /usr/local/lib/python3.6/dist-packages (from -r /content/drive/My Drive/Documents/Educational/Given Courses/CV Tutorial/requirements (line 6)) (0.29.9)\n",
      "Requirement already satisfied: scipy in /usr/local/lib/python3.6/dist-packages (from -r /content/drive/My Drive/Documents/Educational/Given Courses/CV Tutorial/requirements (line 7)) (1.3.0)\n",
      "Requirement already satisfied: matplotlib in /usr/local/lib/python3.6/dist-packages (from -r /content/drive/My Drive/Documents/Educational/Given Courses/CV Tutorial/requirements (line 8)) (3.0.3)\n",
      "Requirement already satisfied: pyyaml in /usr/local/lib/python3.6/dist-packages (from keras->-r /content/drive/My Drive/Documents/Educational/Given Courses/CV Tutorial/requirements (line 1)) (3.13)\n",
      "Requirement already satisfied: numpy>=1.9.1 in /usr/local/lib/python3.6/dist-packages (from keras->-r /content/drive/My Drive/Documents/Educational/Given Courses/CV Tutorial/requirements (line 1)) (1.16.4)\n",
      "Requirement already satisfied: keras-applications>=1.0.6 in /usr/local/lib/python3.6/dist-packages (from keras->-r /content/drive/My Drive/Documents/Educational/Given Courses/CV Tutorial/requirements (line 1)) (1.0.7)\n",
      "Requirement already satisfied: six>=1.9.0 in /usr/local/lib/python3.6/dist-packages (from keras->-r /content/drive/My Drive/Documents/Educational/Given Courses/CV Tutorial/requirements (line 1)) (1.12.0)\n",
      "Requirement already satisfied: h5py in /usr/local/lib/python3.6/dist-packages (from keras->-r /content/drive/My Drive/Documents/Educational/Given Courses/CV Tutorial/requirements (line 1)) (2.8.0)\n",
      "Requirement already satisfied: keras-preprocessing>=1.0.5 in /usr/local/lib/python3.6/dist-packages (from keras->-r /content/drive/My Drive/Documents/Educational/Given Courses/CV Tutorial/requirements (line 1)) (1.0.9)\n",
      "Requirement already satisfied: joblib>=0.11 in /usr/local/lib/python3.6/dist-packages (from scikit-learn->-r /content/drive/My Drive/Documents/Educational/Given Courses/CV Tutorial/requirements (line 2)) (0.13.2)\n",
      "Requirement already satisfied: imageio>=2.0.1 in /usr/local/lib/python3.6/dist-packages (from scikit-image->-r /content/drive/My Drive/Documents/Educational/Given Courses/CV Tutorial/requirements (line 3)) (2.4.1)\n",
      "Requirement already satisfied: networkx>=2.0 in /usr/local/lib/python3.6/dist-packages (from scikit-image->-r /content/drive/My Drive/Documents/Educational/Given Courses/CV Tutorial/requirements (line 3)) (2.3)\n",
      "Requirement already satisfied: pillow>=4.3.0 in /usr/local/lib/python3.6/dist-packages (from scikit-image->-r /content/drive/My Drive/Documents/Educational/Given Courses/CV Tutorial/requirements (line 3)) (4.3.0)\n",
      "Requirement already satisfied: PyWavelets>=0.4.0 in /usr/local/lib/python3.6/dist-packages (from scikit-image->-r /content/drive/My Drive/Documents/Educational/Given Courses/CV Tutorial/requirements (line 3)) (1.0.3)\n",
      "Requirement already satisfied: pytz>=2011k in /usr/local/lib/python3.6/dist-packages (from pandas->-r /content/drive/My Drive/Documents/Educational/Given Courses/CV Tutorial/requirements (line 5)) (2018.9)\n",
      "Requirement already satisfied: python-dateutil>=2.5.0 in /usr/local/lib/python3.6/dist-packages (from pandas->-r /content/drive/My Drive/Documents/Educational/Given Courses/CV Tutorial/requirements (line 5)) (2.5.3)\n",
      "Requirement already satisfied: cycler>=0.10 in /usr/local/lib/python3.6/dist-packages (from matplotlib->-r /content/drive/My Drive/Documents/Educational/Given Courses/CV Tutorial/requirements (line 8)) (0.10.0)\n",
      "Requirement already satisfied: kiwisolver>=1.0.1 in /usr/local/lib/python3.6/dist-packages (from matplotlib->-r /content/drive/My Drive/Documents/Educational/Given Courses/CV Tutorial/requirements (line 8)) (1.1.0)\n",
      "Requirement already satisfied: pyparsing!=2.0.4,!=2.1.2,!=2.1.6,>=2.0.1 in /usr/local/lib/python3.6/dist-packages (from matplotlib->-r /content/drive/My Drive/Documents/Educational/Given Courses/CV Tutorial/requirements (line 8)) (2.4.0)\n",
      "Requirement already satisfied: decorator>=4.3.0 in /usr/local/lib/python3.6/dist-packages (from networkx>=2.0->scikit-image->-r /content/drive/My Drive/Documents/Educational/Given Courses/CV Tutorial/requirements (line 3)) (4.4.0)\n",
      "Requirement already satisfied: olefile in /usr/local/lib/python3.6/dist-packages (from pillow>=4.3.0->scikit-image->-r /content/drive/My Drive/Documents/Educational/Given Courses/CV Tutorial/requirements (line 3)) (0.46)\n",
      "Requirement already satisfied: setuptools in /usr/local/lib/python3.6/dist-packages (from kiwisolver>=1.0.1->matplotlib->-r /content/drive/My Drive/Documents/Educational/Given Courses/CV Tutorial/requirements (line 8)) (41.0.1)\n"
     ]
    }
   ],
   "source": [
    "!pip install -r '/content/drive/My Drive/vision_intro_tutorial/requirements'"
   ]
  },
  {
   "cell_type": "markdown",
   "metadata": {
    "colab_type": "text",
    "id": "ZCSSlELASGgu"
   },
   "source": [
    "**Import requirements**"
   ]
  },
  {
   "cell_type": "code",
   "execution_count": 4,
   "metadata": {
    "colab": {
     "base_uri": "https://localhost:8080/",
     "height": 34
    },
    "colab_type": "code",
    "executionInfo": {
     "elapsed": 38408,
     "status": "ok",
     "timestamp": 1559697232688,
     "user": {
      "displayName": "Sahand Vahidnia",
      "photoUrl": "https://lh4.googleusercontent.com/-sKRJOjmjksE/AAAAAAAAAAI/AAAAAAAAHVk/dgd_UbVOMRU/s64/photo.jpg",
      "userId": "07441076380334256099"
     },
     "user_tz": -600
    },
    "id": "LWBnFCNPKZtf",
    "outputId": "0ecf757d-17d4-4d9d-d8e8-936c2c50a663"
   },
   "outputs": [
    {
     "name": "stderr",
     "output_type": "stream",
     "text": [
      "Using TensorFlow backend.\n"
     ]
    }
   ],
   "source": [
    "import keras\n",
    "from keras.datasets import mnist\n",
    "from keras.layers import Dense, Flatten, Dropout\n",
    "from keras.layers import Conv2D, MaxPooling2D\n",
    "from keras.models import Sequential\n",
    "from keras import optimizers\n",
    "import matplotlib.pylab as plt\n",
    "from sklearn.metrics import confusion_matrix\n",
    "import pandas as pd\n",
    "import numpy as np\n",
    "from keras.callbacks import ModelCheckpoint\n",
    "from keras.models import model_from_json\n",
    "from keras.utils import plot_model\n",
    "from keras.preprocessing.image import ImageDataGenerator\n",
    "import cv2\n",
    "import os.path\n",
    "import sys\n",
    "from sklearn.model_selection import train_test_split\n",
    "import warnings\n",
    "import datetime\n",
    "\n",
    "np.random.seed(100)"
   ]
  },
  {
   "cell_type": "markdown",
   "metadata": {
    "colab_type": "text",
    "id": "FAo3eF3FSKh0"
   },
   "source": [
    "**Some useful functions**"
   ]
  },
  {
   "cell_type": "code",
   "execution_count": 0,
   "metadata": {
    "colab": {},
    "colab_type": "code",
    "id": "jQqo5OhFKd7T"
   },
   "outputs": [],
   "source": [
    "def snd_data_split_3(X,Y,train_proportion,test_proportion,validation_proportion):\n",
    "    size_1 = 1 - train_proportion\n",
    "    size_2 = validation_proportion/(test_proportion+validation_proportion)\n",
    "    x_train, x_test, y_train, y_test = train_test_split(X, Y, test_size=size_1)\n",
    "    x_test, x_valid, y_test, y_valid = train_test_split(x_test, y_test, test_size=size_2)\n",
    "    return x_train,x_test,x_valid,y_train,y_test,y_valid"
   ]
  },
  {
   "cell_type": "code",
   "execution_count": 0,
   "metadata": {
    "colab": {},
    "colab_type": "code",
    "id": "wGM07Tr1KgYH"
   },
   "outputs": [],
   "source": [
    "def class_accuracy_percentage_calc(Y_actual,Y_prediction):\n",
    "    df_confusion = pd.crosstab(Y_actual, Y_prediction, rownames=['Actual'], colnames=['Predicted'], margins=True)\n",
    "#    print(df_confusion)\n",
    "    count_of_classess = df_confusion.All.size\n",
    "#    print(\"No. of classes: \",count_of_classess-1)\n",
    "    class_accuracy_percentage = []\n",
    "    for i in range(count_of_classess-1):\n",
    "        class_accuracy_percentage.append(float(df_confusion[i][i])/float(df_confusion.All[i]))\n",
    "    return class_accuracy_percentage        "
   ]
  },
  {
   "cell_type": "markdown",
   "metadata": {
    "colab_type": "text",
    "id": "8gl1pku6SPLq"
   },
   "source": [
    "**Import data**"
   ]
  },
  {
   "cell_type": "code",
   "execution_count": 0,
   "metadata": {
    "colab": {},
    "colab_type": "code",
    "id": "JFFnZLiYKpOv"
   },
   "outputs": [],
   "source": [
    "class_0 = []\n",
    "class_1 = []\n",
    "for root, dirs, files in os.walk('/content/drive/My Drive/vision_intro_tutorial/asphalt data/'+'NonCracks/'):\n",
    "    for file in files:\n",
    "        if file.endswith(\".jpg\"):\n",
    "            file_path = os.path.join(root, file)\n",
    "#             print(file_path)\n",
    "            class_0.append(file_path)\n",
    "for root, dirs, files in os.walk('/content/drive/My Drive/vision_intro_tutorial/asphalt data/'+'Cracks/'):\n",
    "    for file in files:\n",
    "        if file.endswith(\".jpg\"):\n",
    "            file_path = os.path.join(root, file)\n",
    "#             print(file_path)\n",
    "            class_1.append(file_path)"
   ]
  },
  {
   "cell_type": "code",
   "execution_count": 8,
   "metadata": {
    "colab": {
     "base_uri": "https://localhost:8080/",
     "height": 34
    },
    "colab_type": "code",
    "executionInfo": {
     "elapsed": 43243,
     "status": "ok",
     "timestamp": 1559697237535,
     "user": {
      "displayName": "Sahand Vahidnia",
      "photoUrl": "https://lh4.googleusercontent.com/-sKRJOjmjksE/AAAAAAAAAAI/AAAAAAAAHVk/dgd_UbVOMRU/s64/photo.jpg",
      "userId": "07441076380334256099"
     },
     "user_tz": -600
    },
    "id": "9zfyPZaIPDYG",
    "outputId": "b5371794-92ca-4fe8-a436-3fac740b5cd7"
   },
   "outputs": [
    {
     "data": {
      "text/plain": [
       "(400, 2)"
      ]
     },
     "execution_count": 8,
     "metadata": {
      "tags": []
     },
     "output_type": "execute_result"
    }
   ],
   "source": [
    "df0 = pd.DataFrame(class_0)\n",
    "df0['class'] = 0\n",
    "df1 = pd.DataFrame(class_1)\n",
    "df1['class'] = 1\n",
    "dfs = [df0,df1]\n",
    "df = pd.concat(dfs)\n",
    "df = df.sample(frac=1).reset_index(drop=True)\n",
    "df.shape"
   ]
  },
  {
   "cell_type": "markdown",
   "metadata": {
    "colab_type": "text",
    "id": "o--BOhvlSSzs"
   },
   "source": [
    "**Load data**"
   ]
  },
  {
   "cell_type": "code",
   "execution_count": 9,
   "metadata": {
    "colab": {
     "base_uri": "https://localhost:8080/",
     "height": 51
    },
    "colab_type": "code",
    "executionInfo": {
     "elapsed": 272467,
     "status": "ok",
     "timestamp": 1559697466775,
     "user": {
      "displayName": "Sahand Vahidnia",
      "photoUrl": "https://lh4.googleusercontent.com/-sKRJOjmjksE/AAAAAAAAAAI/AAAAAAAAHVk/dgd_UbVOMRU/s64/photo.jpg",
      "userId": "07441076380334256099"
     },
     "user_tz": -600
    },
    "id": "swDmTAjEP_CI",
    "outputId": "047cae49-7217-4729-f717-9940b28aaec9"
   },
   "outputs": [
    {
     "name": "stderr",
     "output_type": "stream",
     "text": [
      "/usr/local/lib/python3.6/dist-packages/ipykernel_launcher.py:11: FutureWarning: Method .as_matrix will be removed in a future version. Use .values instead.\n",
      "  # This is added back by InteractiveShellApp.init_path()\n"
     ]
    }
   ],
   "source": [
    "X_files = df[0][:]\n",
    "Y = df['class'][:]\n",
    "\n",
    "X = np.zeros(shape=(X_files.shape[0],100,100,3))\n",
    "for i in range(0,X_files.shape[0]):\n",
    "    if os.path.isfile(X_files[i]):\n",
    "        img = cv2.imread(X_files[i])\n",
    "        img = cv2.resize(img, (100,100))\n",
    "        blur = cv2.bilateralFilter(img,9,75,75)\n",
    "        X[i, :, :, :]=blur\n",
    "Y = Y.as_matrix()"
   ]
  },
  {
   "cell_type": "code",
   "execution_count": 0,
   "metadata": {
    "colab": {},
    "colab_type": "code",
    "id": "PMPtvKNKVJwy"
   },
   "outputs": [],
   "source": [
    "x_train,x_test,x_valid,y_train,y_test_r,y_valid_r = snd_data_split_3(X,Y,train_proportion=0.7,test_proportion=0.1,validation_proportion=0.2)"
   ]
  },
  {
   "cell_type": "code",
   "execution_count": 0,
   "metadata": {
    "colab": {},
    "colab_type": "code",
    "id": "qJ5FaW7_V9QF"
   },
   "outputs": [],
   "source": [
    "x_train /= 255\n",
    "x_test /= 255\n",
    "x_valid /= 255"
   ]
  },
  {
   "cell_type": "code",
   "execution_count": 12,
   "metadata": {
    "colab": {
     "base_uri": "https://localhost:8080/",
     "height": 85
    },
    "colab_type": "code",
    "executionInfo": {
     "elapsed": 272465,
     "status": "ok",
     "timestamp": 1559697466786,
     "user": {
      "displayName": "Sahand Vahidnia",
      "photoUrl": "https://lh4.googleusercontent.com/-sKRJOjmjksE/AAAAAAAAAAI/AAAAAAAAHVk/dgd_UbVOMRU/s64/photo.jpg",
      "userId": "07441076380334256099"
     },
     "user_tz": -600
    },
    "id": "yEfuFRGdWIpC",
    "outputId": "49b3a092-3748-4dbc-8f53-ed30d751baab"
   },
   "outputs": [
    {
     "name": "stdout",
     "output_type": "stream",
     "text": [
      "x_train shape: (279, 100, 100, 3)\n",
      "279 train samples\n",
      "40 test samples\n",
      "81 validation samples\n"
     ]
    }
   ],
   "source": [
    "print('x_train shape:', x_train.shape)\n",
    "print(x_train.shape[0], 'train samples')\n",
    "print(x_test.shape[0], 'test samples')\n",
    "print(x_valid.shape[0], 'validation samples')"
   ]
  },
  {
   "cell_type": "markdown",
   "metadata": {
    "colab_type": "text",
    "id": "y5GCSOeiWMYt"
   },
   "source": [
    "Turn data to categorical (it is necessary if we are going to have more that 2 classes)"
   ]
  },
  {
   "cell_type": "code",
   "execution_count": 0,
   "metadata": {
    "colab": {},
    "colab_type": "code",
    "id": "yzAW2NBEWLO2"
   },
   "outputs": [],
   "source": [
    "y_train = keras.utils.to_categorical(y_train, 2)\n",
    "y_test = keras.utils.to_categorical(y_test_r, 2)\n",
    "y_valid = keras.utils.to_categorical(y_valid_r, 2)"
   ]
  },
  {
   "cell_type": "markdown",
   "metadata": {
    "colab_type": "text",
    "id": "teJGiJ-qWfNv"
   },
   "source": [
    "Augmentation"
   ]
  },
  {
   "cell_type": "code",
   "execution_count": 14,
   "metadata": {
    "colab": {
     "base_uri": "https://localhost:8080/",
     "height": 34
    },
    "colab_type": "code",
    "executionInfo": {
     "elapsed": 272460,
     "status": "ok",
     "timestamp": 1559697466790,
     "user": {
      "displayName": "Sahand Vahidnia",
      "photoUrl": "https://lh4.googleusercontent.com/-sKRJOjmjksE/AAAAAAAAAAI/AAAAAAAAHVk/dgd_UbVOMRU/s64/photo.jpg",
      "userId": "07441076380334256099"
     },
     "user_tz": -600
    },
    "id": "HYc4KUMTWg6N",
    "outputId": "591b1c0a-50f3-49a6-ed98-5f2208c27b6e"
   },
   "outputs": [
    {
     "name": "stdout",
     "output_type": "stream",
     "text": [
      "skipping augmentation\n"
     ]
    }
   ],
   "source": [
    "Augment = False\n",
    "if Augment is False:\n",
    "    print(\"skipping augmentation\")\n",
    "else:\n",
    "    datagen = ImageDataGenerator(\n",
    "                rotation_range=20,\n",
    "                width_shift_range=0.2,\n",
    "                height_shift_range=0.2,\n",
    "                horizontal_flip=True)\n",
    "    datagen.fit(x_train)"
   ]
  },
  {
   "cell_type": "markdown",
   "metadata": {
    "colab_type": "text",
    "id": "cLijn3nLSXnO"
   },
   "source": [
    "**Create Model**"
   ]
  },
  {
   "cell_type": "code",
   "execution_count": 15,
   "metadata": {
    "colab": {
     "base_uri": "https://localhost:8080/",
     "height": 530
    },
    "colab_type": "code",
    "executionInfo": {
     "elapsed": 273004,
     "status": "ok",
     "timestamp": 1559697467344,
     "user": {
      "displayName": "Sahand Vahidnia",
      "photoUrl": "https://lh4.googleusercontent.com/-sKRJOjmjksE/AAAAAAAAAAI/AAAAAAAAHVk/dgd_UbVOMRU/s64/photo.jpg",
      "userId": "07441076380334256099"
     },
     "user_tz": -600
    },
    "id": "2Mprrun6Rbo6",
    "outputId": "7cec0dc2-25c5-4a53-935f-42b785687a15"
   },
   "outputs": [
    {
     "name": "stdout",
     "output_type": "stream",
     "text": [
      "WARNING:tensorflow:From /usr/local/lib/python3.6/dist-packages/tensorflow/python/framework/op_def_library.py:263: colocate_with (from tensorflow.python.framework.ops) is deprecated and will be removed in a future version.\n",
      "Instructions for updating:\n",
      "Colocations handled automatically by placer.\n",
      "_________________________________________________________________\n",
      "Layer (type)                 Output Shape              Param #   \n",
      "=================================================================\n",
      "conv2d_1 (Conv2D)            (None, 91, 91, 30)        9030      \n",
      "_________________________________________________________________\n",
      "max_pooling2d_1 (MaxPooling2 (None, 45, 45, 30)        0         \n",
      "_________________________________________________________________\n",
      "second_conv (Conv2D)         (None, 41, 41, 60)        45060     \n",
      "_________________________________________________________________\n",
      "max_pooling2d_2 (MaxPooling2 (None, 13, 13, 60)        0         \n",
      "_________________________________________________________________\n",
      "third_conv (Conv2D)          (None, 11, 11, 90)        48690     \n",
      "_________________________________________________________________\n",
      "max_pooling2d_3 (MaxPooling2 (None, 5, 5, 90)          0         \n",
      "_________________________________________________________________\n",
      "flatten_1 (Flatten)          (None, 2250)              0         \n",
      "_________________________________________________________________\n",
      "dense_1 (Dense)              (None, 1000)              2251000   \n",
      "_________________________________________________________________\n",
      "dense_2 (Dense)              (None, 2)                 2002      \n",
      "=================================================================\n",
      "Total params: 2,355,782\n",
      "Trainable params: 2,355,782\n",
      "Non-trainable params: 0\n",
      "_________________________________________________________________\n",
      "None\n"
     ]
    }
   ],
   "source": [
    "model = Sequential()\n",
    "model.add(Conv2D(30, kernel_size=(10, 10), strides=(1, 1), activation='relu', input_shape=[100,100,3]))\n",
    "model.add(MaxPooling2D(pool_size=(3, 3), strides=(2, 2)))\n",
    "model.add(Conv2D(60, (5, 5), activation='relu', name='second_conv',strides=(1, 1)))\n",
    "model.add(MaxPooling2D(pool_size=(3, 3)))\n",
    "model.add(Conv2D(90, (3, 3), activation='relu', name='third_conv',strides=(1, 1)))\n",
    "model.add(MaxPooling2D(pool_size=(2, 2)))\n",
    "model.add(Flatten())\n",
    "model.add(Dense(1000, activation='relu'))\n",
    "model.add(Dense(2, activation='softmax'))\n",
    "sgd = optimizers.SGD(lr=0.001, decay=1e-6, momentum=0.9, nesterov=True)\n",
    "model.compile(loss=keras.losses.categorical_crossentropy, optimizer=sgd, metrics=['accuracy'])\n",
    "\n",
    "print(model.summary())\n"
   ]
  },
  {
   "cell_type": "markdown",
   "metadata": {
    "colab_type": "text",
    "id": "Ca0Ip4ccY8uj"
   },
   "source": [
    "**Train**"
   ]
  },
  {
   "cell_type": "markdown",
   "metadata": {
    "colab_type": "text",
    "id": "bHyE-XsChEC0"
   },
   "source": [
    "Save checkpoints and jsons to file"
   ]
  },
  {
   "cell_type": "code",
   "execution_count": 0,
   "metadata": {
    "colab": {},
    "colab_type": "code",
    "id": "0Df_xPHNY_ch"
   },
   "outputs": [],
   "source": [
    "currentDT = datetime.datetime.now()\n",
    "model_path = '/content/drive/My Drive/vision_intro_tutorial/'+currentDT.strftime(\"%Y-%m-%d-%H:%M:%S\")+'--checkpoint.hdf5'\n",
    "model_json_path = '/content/drive/My Drive/vision_intro_tutorial/'+currentDT.strftime(\"%Y-%m-%d-%H:%M:%S\")+'--model.json'\n",
    "checkpoint = ModelCheckpoint(filepath=model_path, save_best_only=True, monitor='val_acc', mode='max')\n",
    "model_json = model.to_json()\n",
    "with open(model_json_path, \"w\") as json_file:\n",
    "    json_file.write(model_json)"
   ]
  },
  {
   "cell_type": "markdown",
   "metadata": {
    "colab_type": "text",
    "id": "c5O9zhbWhIPY"
   },
   "source": [
    "Start training"
   ]
  },
  {
   "cell_type": "code",
   "execution_count": 0,
   "metadata": {
    "colab": {},
    "colab_type": "code",
    "id": "VMybMXCMYUgC"
   },
   "outputs": [],
   "source": [
    "if Augment is True:\n",
    "  history = model.fit_generator(datagen.flow(x_train, y_train, batch_size=20),\n",
    "                    validation_data=(x_test, y_test), callbacks=[checkpoint],\n",
    "                    steps_per_epoch=len(x_train) / 64, epochs=100)"
   ]
  },
  {
   "cell_type": "code",
   "execution_count": 18,
   "metadata": {
    "colab": {
     "base_uri": "https://localhost:8080/",
     "height": 3505
    },
    "colab_type": "code",
    "executionInfo": {
     "elapsed": 301338,
     "status": "ok",
     "timestamp": 1559697495696,
     "user": {
      "displayName": "Sahand Vahidnia",
      "photoUrl": "https://lh4.googleusercontent.com/-sKRJOjmjksE/AAAAAAAAAAI/AAAAAAAAHVk/dgd_UbVOMRU/s64/photo.jpg",
      "userId": "07441076380334256099"
     },
     "user_tz": -600
    },
    "id": "TQ7ta-5EYcLA",
    "outputId": "46935b4b-b951-4e54-a759-0dfa35dd07fd"
   },
   "outputs": [
    {
     "name": "stdout",
     "output_type": "stream",
     "text": [
      "WARNING:tensorflow:From /usr/local/lib/python3.6/dist-packages/tensorflow/python/ops/math_ops.py:3066: to_int32 (from tensorflow.python.ops.math_ops) is deprecated and will be removed in a future version.\n",
      "Instructions for updating:\n",
      "Use tf.cast instead.\n",
      "Train on 279 samples, validate on 81 samples\n",
      "Epoch 1/100\n",
      "279/279 [==============================] - 6s 21ms/step - loss: 0.6845 - acc: 0.5556 - val_loss: 0.7504 - val_acc: 0.3086\n",
      "Epoch 2/100\n",
      "279/279 [==============================] - 0s 749us/step - loss: 0.6777 - acc: 0.5556 - val_loss: 0.7235 - val_acc: 0.3086\n",
      "Epoch 3/100\n",
      "279/279 [==============================] - 0s 731us/step - loss: 0.6738 - acc: 0.5556 - val_loss: 0.7312 - val_acc: 0.3086\n",
      "Epoch 4/100\n",
      "279/279 [==============================] - 0s 724us/step - loss: 0.6644 - acc: 0.5556 - val_loss: 0.6947 - val_acc: 0.3086\n",
      "Epoch 5/100\n",
      "279/279 [==============================] - 0s 761us/step - loss: 0.6682 - acc: 0.6057 - val_loss: 0.7140 - val_acc: 0.3086\n",
      "Epoch 6/100\n",
      "279/279 [==============================] - 0s 739us/step - loss: 0.6533 - acc: 0.6344 - val_loss: 0.7512 - val_acc: 0.3086\n",
      "Epoch 7/100\n",
      "279/279 [==============================] - 0s 745us/step - loss: 0.6480 - acc: 0.6452 - val_loss: 0.7497 - val_acc: 0.3086\n",
      "Epoch 8/100\n",
      "279/279 [==============================] - 0s 731us/step - loss: 0.6350 - acc: 0.6774 - val_loss: 0.6193 - val_acc: 0.7778\n",
      "Epoch 9/100\n",
      "279/279 [==============================] - 0s 855us/step - loss: 0.6771 - acc: 0.5878 - val_loss: 0.7166 - val_acc: 0.3086\n",
      "Epoch 10/100\n",
      "279/279 [==============================] - 0s 810us/step - loss: 0.6499 - acc: 0.6165 - val_loss: 0.6319 - val_acc: 0.7407\n",
      "Epoch 11/100\n",
      "279/279 [==============================] - 0s 751us/step - loss: 0.6301 - acc: 0.6631 - val_loss: 0.6192 - val_acc: 0.7407\n",
      "Epoch 12/100\n",
      "279/279 [==============================] - 0s 811us/step - loss: 0.6304 - acc: 0.6452 - val_loss: 0.7499 - val_acc: 0.3086\n",
      "Epoch 13/100\n",
      "279/279 [==============================] - 0s 837us/step - loss: 0.6262 - acc: 0.6667 - val_loss: 0.8555 - val_acc: 0.3086\n",
      "Epoch 14/100\n",
      "279/279 [==============================] - 0s 820us/step - loss: 0.6186 - acc: 0.6774 - val_loss: 0.5712 - val_acc: 0.7654\n",
      "Epoch 15/100\n",
      "279/279 [==============================] - 0s 803us/step - loss: 0.6114 - acc: 0.6703 - val_loss: 0.5610 - val_acc: 0.7407\n",
      "Epoch 16/100\n",
      "279/279 [==============================] - 0s 786us/step - loss: 0.6045 - acc: 0.7204 - val_loss: 0.7751 - val_acc: 0.3086\n",
      "Epoch 17/100\n",
      "279/279 [==============================] - 0s 760us/step - loss: 0.6125 - acc: 0.6918 - val_loss: 0.7576 - val_acc: 0.3951\n",
      "Epoch 18/100\n",
      "279/279 [==============================] - 0s 775us/step - loss: 0.6050 - acc: 0.6882 - val_loss: 0.5293 - val_acc: 0.7654\n",
      "Epoch 19/100\n",
      "279/279 [==============================] - 0s 761us/step - loss: 0.6129 - acc: 0.6487 - val_loss: 0.5412 - val_acc: 0.7531\n",
      "Epoch 20/100\n",
      "279/279 [==============================] - 0s 786us/step - loss: 0.5734 - acc: 0.7025 - val_loss: 0.5182 - val_acc: 0.7531\n",
      "Epoch 21/100\n",
      "279/279 [==============================] - 0s 795us/step - loss: 0.5733 - acc: 0.7097 - val_loss: 0.4661 - val_acc: 0.7901\n",
      "Epoch 22/100\n",
      "279/279 [==============================] - 0s 862us/step - loss: 0.5800 - acc: 0.7097 - val_loss: 0.6339 - val_acc: 0.7037\n",
      "Epoch 23/100\n",
      "279/279 [==============================] - 0s 844us/step - loss: 0.5633 - acc: 0.6810 - val_loss: 0.5350 - val_acc: 0.7901\n",
      "Epoch 24/100\n",
      "279/279 [==============================] - 0s 769us/step - loss: 0.5662 - acc: 0.7168 - val_loss: 0.6106 - val_acc: 0.7160\n",
      "Epoch 25/100\n",
      "279/279 [==============================] - 0s 760us/step - loss: 0.5342 - acc: 0.7455 - val_loss: 0.5556 - val_acc: 0.7284\n",
      "Epoch 26/100\n",
      "279/279 [==============================] - 0s 762us/step - loss: 0.5499 - acc: 0.7348 - val_loss: 0.4487 - val_acc: 0.8272\n",
      "Epoch 27/100\n",
      "279/279 [==============================] - 0s 858us/step - loss: 0.5405 - acc: 0.7240 - val_loss: 0.8379 - val_acc: 0.3086\n",
      "Epoch 28/100\n",
      "279/279 [==============================] - 0s 783us/step - loss: 0.5094 - acc: 0.7599 - val_loss: 0.9448 - val_acc: 0.3086\n",
      "Epoch 29/100\n",
      "279/279 [==============================] - 0s 787us/step - loss: 0.5046 - acc: 0.7491 - val_loss: 0.4457 - val_acc: 0.7778\n",
      "Epoch 30/100\n",
      "279/279 [==============================] - 0s 798us/step - loss: 0.4921 - acc: 0.7419 - val_loss: 0.4100 - val_acc: 0.8395\n",
      "Epoch 31/100\n",
      "279/279 [==============================] - 0s 911us/step - loss: 0.4763 - acc: 0.7491 - val_loss: 0.5224 - val_acc: 0.7531\n",
      "Epoch 32/100\n",
      "279/279 [==============================] - 0s 802us/step - loss: 0.4702 - acc: 0.7670 - val_loss: 0.7114 - val_acc: 0.6173\n",
      "Epoch 33/100\n",
      "279/279 [==============================] - 0s 769us/step - loss: 0.4519 - acc: 0.8136 - val_loss: 0.7273 - val_acc: 0.6420\n",
      "Epoch 34/100\n",
      "279/279 [==============================] - 0s 766us/step - loss: 0.4192 - acc: 0.7957 - val_loss: 0.5119 - val_acc: 0.7531\n",
      "Epoch 35/100\n",
      "279/279 [==============================] - 0s 807us/step - loss: 0.4187 - acc: 0.7957 - val_loss: 0.5011 - val_acc: 0.7778\n",
      "Epoch 36/100\n",
      "279/279 [==============================] - 0s 823us/step - loss: 0.3807 - acc: 0.8315 - val_loss: 0.3283 - val_acc: 0.8889\n",
      "Epoch 37/100\n",
      "279/279 [==============================] - 0s 821us/step - loss: 0.3696 - acc: 0.8208 - val_loss: 0.3754 - val_acc: 0.8395\n",
      "Epoch 38/100\n",
      "279/279 [==============================] - 0s 781us/step - loss: 0.3733 - acc: 0.8459 - val_loss: 0.3269 - val_acc: 0.8889\n",
      "Epoch 39/100\n",
      "279/279 [==============================] - 0s 770us/step - loss: 0.3530 - acc: 0.8459 - val_loss: 0.3347 - val_acc: 0.8272\n",
      "Epoch 40/100\n",
      "279/279 [==============================] - 0s 776us/step - loss: 0.3496 - acc: 0.8495 - val_loss: 0.5090 - val_acc: 0.7654\n",
      "Epoch 41/100\n",
      "279/279 [==============================] - 0s 761us/step - loss: 0.3074 - acc: 0.8961 - val_loss: 0.5477 - val_acc: 0.6914\n",
      "Epoch 42/100\n",
      "279/279 [==============================] - 0s 821us/step - loss: 0.3056 - acc: 0.8889 - val_loss: 0.3577 - val_acc: 0.8765\n",
      "Epoch 43/100\n",
      "279/279 [==============================] - 0s 816us/step - loss: 0.2951 - acc: 0.8925 - val_loss: 0.2982 - val_acc: 0.9012\n",
      "Epoch 44/100\n",
      "279/279 [==============================] - 0s 904us/step - loss: 0.2779 - acc: 0.8996 - val_loss: 0.3022 - val_acc: 0.8889\n",
      "Epoch 45/100\n",
      "279/279 [==============================] - 0s 801us/step - loss: 0.2859 - acc: 0.8781 - val_loss: 0.3109 - val_acc: 0.9012\n",
      "Epoch 46/100\n",
      "279/279 [==============================] - 0s 784us/step - loss: 0.2714 - acc: 0.8710 - val_loss: 0.2992 - val_acc: 0.8889\n",
      "Epoch 47/100\n",
      "279/279 [==============================] - 0s 772us/step - loss: 0.2636 - acc: 0.8996 - val_loss: 0.2870 - val_acc: 0.9012\n",
      "Epoch 48/100\n",
      "279/279 [==============================] - 0s 755us/step - loss: 0.2641 - acc: 0.8746 - val_loss: 0.4076 - val_acc: 0.8395\n",
      "Epoch 49/100\n",
      "279/279 [==============================] - 0s 776us/step - loss: 0.2490 - acc: 0.9140 - val_loss: 0.3573 - val_acc: 0.8519\n",
      "Epoch 50/100\n",
      "279/279 [==============================] - 0s 749us/step - loss: 0.2511 - acc: 0.9176 - val_loss: 0.4326 - val_acc: 0.8272\n",
      "Epoch 51/100\n",
      "279/279 [==============================] - 0s 756us/step - loss: 0.2462 - acc: 0.8996 - val_loss: 0.2952 - val_acc: 0.9136\n",
      "Epoch 52/100\n",
      "279/279 [==============================] - 0s 790us/step - loss: 0.2275 - acc: 0.9211 - val_loss: 0.3548 - val_acc: 0.8642\n",
      "Epoch 53/100\n",
      "279/279 [==============================] - 0s 777us/step - loss: 0.2185 - acc: 0.9104 - val_loss: 0.2936 - val_acc: 0.9136\n",
      "Epoch 54/100\n",
      "279/279 [==============================] - 0s 763us/step - loss: 0.2641 - acc: 0.8961 - val_loss: 0.3107 - val_acc: 0.9012\n",
      "Epoch 55/100\n",
      "279/279 [==============================] - 0s 757us/step - loss: 0.2495 - acc: 0.8961 - val_loss: 0.3051 - val_acc: 0.9012\n",
      "Epoch 56/100\n",
      "279/279 [==============================] - 0s 757us/step - loss: 0.2382 - acc: 0.9104 - val_loss: 0.2688 - val_acc: 0.8765\n",
      "Epoch 57/100\n",
      "279/279 [==============================] - 0s 750us/step - loss: 0.2285 - acc: 0.9032 - val_loss: 0.2686 - val_acc: 0.8889\n",
      "Epoch 58/100\n",
      "279/279 [==============================] - 0s 780us/step - loss: 0.1905 - acc: 0.9319 - val_loss: 0.3094 - val_acc: 0.8765\n",
      "Epoch 59/100\n",
      "279/279 [==============================] - 0s 758us/step - loss: 0.2219 - acc: 0.9032 - val_loss: 0.2483 - val_acc: 0.9012\n",
      "Epoch 60/100\n",
      "279/279 [==============================] - 0s 764us/step - loss: 0.1895 - acc: 0.9211 - val_loss: 1.0086 - val_acc: 0.5926\n",
      "Epoch 61/100\n",
      "279/279 [==============================] - 0s 749us/step - loss: 0.2792 - acc: 0.8746 - val_loss: 0.2756 - val_acc: 0.8765\n",
      "Epoch 62/100\n",
      "279/279 [==============================] - 0s 784us/step - loss: 0.2305 - acc: 0.9068 - val_loss: 0.2677 - val_acc: 0.8765\n",
      "Epoch 63/100\n",
      "279/279 [==============================] - 0s 771us/step - loss: 0.2103 - acc: 0.9176 - val_loss: 0.2926 - val_acc: 0.9136\n",
      "Epoch 64/100\n",
      "279/279 [==============================] - 0s 754us/step - loss: 0.1783 - acc: 0.9391 - val_loss: 0.2888 - val_acc: 0.9012\n",
      "Epoch 65/100\n",
      "279/279 [==============================] - 0s 755us/step - loss: 0.1728 - acc: 0.9462 - val_loss: 0.2635 - val_acc: 0.9012\n",
      "Epoch 66/100\n",
      "279/279 [==============================] - 0s 803us/step - loss: 0.1750 - acc: 0.9498 - val_loss: 0.2424 - val_acc: 0.9012\n",
      "Epoch 67/100\n",
      "279/279 [==============================] - 0s 800us/step - loss: 0.1733 - acc: 0.9355 - val_loss: 0.3326 - val_acc: 0.8642\n",
      "Epoch 68/100\n",
      "279/279 [==============================] - 0s 777us/step - loss: 0.1661 - acc: 0.9534 - val_loss: 0.2743 - val_acc: 0.8765\n",
      "Epoch 69/100\n",
      "279/279 [==============================] - 0s 756us/step - loss: 0.1595 - acc: 0.9570 - val_loss: 0.3415 - val_acc: 0.8642\n",
      "Epoch 70/100\n",
      "279/279 [==============================] - 0s 754us/step - loss: 0.1772 - acc: 0.9355 - val_loss: 0.2587 - val_acc: 0.8889\n",
      "Epoch 71/100\n",
      "279/279 [==============================] - 0s 738us/step - loss: 0.1768 - acc: 0.9355 - val_loss: 0.3139 - val_acc: 0.8889\n",
      "Epoch 72/100\n",
      "279/279 [==============================] - 0s 767us/step - loss: 0.1545 - acc: 0.9642 - val_loss: 0.2349 - val_acc: 0.9012\n",
      "Epoch 73/100\n",
      "279/279 [==============================] - 0s 791us/step - loss: 0.1545 - acc: 0.9498 - val_loss: 0.2814 - val_acc: 0.8889\n",
      "Epoch 74/100\n",
      "279/279 [==============================] - 0s 786us/step - loss: 0.1614 - acc: 0.9247 - val_loss: 0.3159 - val_acc: 0.8765\n",
      "Epoch 75/100\n",
      "279/279 [==============================] - 0s 803us/step - loss: 0.1436 - acc: 0.9534 - val_loss: 0.2414 - val_acc: 0.9012\n",
      "Epoch 76/100\n",
      "279/279 [==============================] - 0s 797us/step - loss: 0.1470 - acc: 0.9606 - val_loss: 0.2869 - val_acc: 0.8765\n",
      "Epoch 77/100\n",
      "279/279 [==============================] - 0s 828us/step - loss: 0.1415 - acc: 0.9570 - val_loss: 0.2443 - val_acc: 0.8889\n",
      "Epoch 78/100\n",
      "279/279 [==============================] - 0s 774us/step - loss: 0.1522 - acc: 0.9498 - val_loss: 0.2833 - val_acc: 0.8889\n",
      "Epoch 79/100\n",
      "279/279 [==============================] - 0s 785us/step - loss: 0.1264 - acc: 0.9677 - val_loss: 0.2350 - val_acc: 0.9259\n",
      "Epoch 80/100\n",
      "279/279 [==============================] - 0s 827us/step - loss: 0.1299 - acc: 0.9570 - val_loss: 0.4510 - val_acc: 0.8272\n",
      "Epoch 81/100\n",
      "279/279 [==============================] - 0s 812us/step - loss: 0.1339 - acc: 0.9570 - val_loss: 0.2398 - val_acc: 0.9136\n",
      "Epoch 82/100\n",
      "279/279 [==============================] - 0s 805us/step - loss: 0.1193 - acc: 0.9642 - val_loss: 0.5448 - val_acc: 0.7778\n",
      "Epoch 83/100\n",
      "279/279 [==============================] - 0s 795us/step - loss: 0.1343 - acc: 0.9570 - val_loss: 0.4115 - val_acc: 0.8519\n",
      "Epoch 84/100\n",
      "279/279 [==============================] - 0s 780us/step - loss: 0.1327 - acc: 0.9642 - val_loss: 0.8733 - val_acc: 0.6790\n",
      "Epoch 85/100\n",
      "279/279 [==============================] - 0s 805us/step - loss: 0.1160 - acc: 0.9713 - val_loss: 0.2381 - val_acc: 0.9012\n",
      "Epoch 86/100\n",
      "279/279 [==============================] - 0s 793us/step - loss: 0.1112 - acc: 0.9821 - val_loss: 0.2254 - val_acc: 0.9136\n",
      "Epoch 87/100\n",
      "279/279 [==============================] - 0s 757us/step - loss: 0.1084 - acc: 0.9713 - val_loss: 0.2327 - val_acc: 0.9259\n",
      "Epoch 88/100\n",
      "279/279 [==============================] - 0s 802us/step - loss: 0.0998 - acc: 0.9713 - val_loss: 0.2640 - val_acc: 0.8889\n",
      "Epoch 89/100\n",
      "279/279 [==============================] - 0s 799us/step - loss: 0.0985 - acc: 0.9749 - val_loss: 0.3519 - val_acc: 0.8765\n",
      "Epoch 90/100\n",
      "279/279 [==============================] - 0s 862us/step - loss: 0.0940 - acc: 0.9785 - val_loss: 0.2354 - val_acc: 0.9012\n",
      "Epoch 91/100\n",
      "279/279 [==============================] - 0s 792us/step - loss: 0.0934 - acc: 0.9642 - val_loss: 0.3636 - val_acc: 0.8642\n",
      "Epoch 92/100\n",
      "279/279 [==============================] - 0s 801us/step - loss: 0.1059 - acc: 0.9642 - val_loss: 0.3701 - val_acc: 0.8889\n",
      "Epoch 93/100\n",
      "279/279 [==============================] - 0s 782us/step - loss: 0.0979 - acc: 0.9677 - val_loss: 0.4474 - val_acc: 0.8395\n",
      "Epoch 94/100\n",
      "279/279 [==============================] - 0s 769us/step - loss: 0.0770 - acc: 0.9857 - val_loss: 0.4322 - val_acc: 0.8519\n",
      "Epoch 95/100\n",
      "279/279 [==============================] - 0s 781us/step - loss: 0.0878 - acc: 0.9749 - val_loss: 0.3024 - val_acc: 0.8765\n",
      "Epoch 96/100\n",
      "279/279 [==============================] - 0s 793us/step - loss: 0.0789 - acc: 0.9713 - val_loss: 0.2745 - val_acc: 0.8889\n",
      "Epoch 97/100\n",
      "279/279 [==============================] - 0s 784us/step - loss: 0.1039 - acc: 0.9749 - val_loss: 0.2440 - val_acc: 0.9012\n",
      "Epoch 98/100\n",
      "279/279 [==============================] - 0s 790us/step - loss: 0.0731 - acc: 0.9857 - val_loss: 0.3800 - val_acc: 0.8642\n",
      "Epoch 99/100\n",
      "279/279 [==============================] - 0s 800us/step - loss: 0.0668 - acc: 0.9821 - val_loss: 0.2506 - val_acc: 0.9012\n",
      "Epoch 100/100\n",
      "279/279 [==============================] - 0s 796us/step - loss: 0.0777 - acc: 0.9785 - val_loss: 0.6706 - val_acc: 0.7901\n"
     ]
    }
   ],
   "source": [
    "if Augment is False:\n",
    "  history = model.fit(x_train, y_train,\n",
    "          batch_size=16,\n",
    "          epochs=100,\n",
    "          verbose=1,\n",
    "          validation_data=(x_valid, y_valid),\n",
    "          callbacks=[checkpoint])"
   ]
  },
  {
   "cell_type": "code",
   "execution_count": 22,
   "metadata": {
    "colab": {
     "base_uri": "https://localhost:8080/",
     "height": 136
    },
    "colab_type": "code",
    "executionInfo": {
     "elapsed": 843,
     "status": "ok",
     "timestamp": 1559697846323,
     "user": {
      "displayName": "Sahand Vahidnia",
      "photoUrl": "https://lh4.googleusercontent.com/-sKRJOjmjksE/AAAAAAAAAAI/AAAAAAAAHVk/dgd_UbVOMRU/s64/photo.jpg",
      "userId": "07441076380334256099"
     },
     "user_tz": -600
    },
    "id": "oqtGyDy4ZSP_",
    "outputId": "367f8330-da4c-46a1-f063-d4b76f637e52"
   },
   "outputs": [
    {
     "name": "stdout",
     "output_type": "stream",
     "text": [
      "Predicted   0   1  All\n",
      "Actual                \n",
      "0          18   2   20\n",
      "1           2  18   20\n",
      "All        20  20   40\n",
      "Accuracy %:\n",
      "[0.9, 0.9]\n"
     ]
    }
   ],
   "source": [
    "model.load_weights(filepath=model_path)\n",
    "y_predicted = model.predict_classes(x_test, verbose = 0)\n",
    "y_actu = pd.Series(y_test_r, name='Actual')\n",
    "y_pred = pd.Series(y_predicted, name='Predicted')\n",
    "df_confusion = pd.crosstab(y_actu, y_pred, rownames=['Actual'], colnames=['Predicted'], margins=True)\n",
    "print(df_confusion)\n",
    "class_accuracy_percentage = class_accuracy_percentage_calc(y_actu,y_pred)\n",
    "print('Accuracy %:')\n",
    "print(class_accuracy_percentage)"
   ]
  }
 ],
 "metadata": {
  "accelerator": "GPU",
  "colab": {
   "collapsed_sections": [],
   "name": "classification_demo.ipynb",
   "provenance": [],
   "version": "0.3.2"
  },
  "kernelspec": {
   "display_name": "Python 3",
   "language": "python",
   "name": "python3"
  },
  "language_info": {
   "codemirror_mode": {
    "name": "ipython",
    "version": 3
   },
   "file_extension": ".py",
   "mimetype": "text/x-python",
   "name": "python",
   "nbconvert_exporter": "python",
   "pygments_lexer": "ipython3",
   "version": "3.7.3"
  }
 },
 "nbformat": 4,
 "nbformat_minor": 1
}
